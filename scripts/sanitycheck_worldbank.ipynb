{
 "cells": [
  {
   "cell_type": "markdown",
   "id": "f4e6e627",
   "metadata": {},
   "source": [
    "## Sanity Check - World Bank Data\n",
    "\n",
    "The goal of this notebook is to do a simple sanity check for the datasets, like no duplicate data and if the year range is as expected, as well as if the files themselves exist."
   ]
  },
  {
   "cell_type": "markdown",
   "id": "cb36c6b2",
   "metadata": {},
   "source": [
    "#### 1. Imports"
   ]
  },
  {
   "cell_type": "code",
   "execution_count": 5,
   "id": "bf289813",
   "metadata": {},
   "outputs": [],
   "source": [
    "import pandas as pd\n",
    "import pathlib\n",
    "\n",
    "RAW_DIR = pathlib.Path(\"../data/raw\")\n",
    "EXPECTED_COLS = [\"country_code\", \"country_name\", \"year\", \"indicator_code\", \"value\"]"
   ]
  },
  {
   "cell_type": "code",
   "execution_count": 6,
   "id": "f8c6300e",
   "metadata": {},
   "outputs": [
    {
     "name": "stdout",
     "output_type": "stream",
     "text": [
      "\n",
      "Checking worldbank_SH.PRV.SMOK_2000_2024.csv\n",
      "Columns OK\n",
      "Year range OK\n",
      "No duplicates on (country_code, indicator_code, year)\n",
      "worldbank_SH.PRV.SMOK_2000_2024.csv PASSED all checks\n",
      "\n",
      "Checking worldbank_SH.XPD.CHEX.GD.ZS_2000_2024.csv\n",
      "Columns OK\n",
      "Year range OK\n",
      "No duplicates on (country_code, indicator_code, year)\n",
      "worldbank_SH.XPD.CHEX.GD.ZS_2000_2024.csv PASSED all checks\n",
      "\n",
      "Checking worldbank_SP.DYN.IMRT.IN_2000_2024.csv\n",
      "Columns OK\n",
      "Year range OK\n",
      "No duplicates on (country_code, indicator_code, year)\n",
      "worldbank_SP.DYN.IMRT.IN_2000_2024.csv PASSED all checks\n",
      "\n",
      "Checking worldbank_SP.DYN.LE00.IN_2000_2024.csv\n",
      "Columns OK\n",
      "Year range OK\n",
      "No duplicates on (country_code, indicator_code, year)\n",
      "worldbank_SP.DYN.LE00.IN_2000_2024.csv PASSED all checks\n",
      "\n",
      "=== SUMMARY ===\n",
      "worldbank_SH.PRV.SMOK_2000_2024.csv: PASSED\n",
      "worldbank_SH.XPD.CHEX.GD.ZS_2000_2024.csv: PASSED\n",
      "worldbank_SP.DYN.IMRT.IN_2000_2024.csv: PASSED\n",
      "worldbank_SP.DYN.LE00.IN_2000_2024.csv: PASSED\n",
      "\n",
      "This notebook checks each CSV in data/raw/ for:\n",
      "- Correct columns\n",
      "- Years between 2000–2024\n",
      "- No duplicate (country_code, indicator_code, year)\n",
      "If all checks pass, the file is marked as PASSED.\n",
      "\n"
     ]
    }
   ],
   "source": [
    "results = []\n",
    "\n",
    "for csv_path in RAW_DIR.glob(\"*.csv\"):\n",
    "    print(f\"\\nChecking {csv_path.name}\")\n",
    "    try:\n",
    "        df = pd.read_csv(csv_path)\n",
    "    except Exception as e:\n",
    "        print(f\"Could not read {csv_path.name}: {e}\")\n",
    "        results.append((csv_path.name, False))\n",
    "        continue\n",
    "\n",
    "    # 1. Check columns\n",
    "    if list(df.columns) != EXPECTED_COLS:\n",
    "        print(f\"Columns mismatch: {df.columns.tolist()}\")\n",
    "        results.append((csv_path.name, False))\n",
    "        continue\n",
    "    else:\n",
    "        print(\"Columns OK\")\n",
    "\n",
    "    # 2. Check year range\n",
    "    years = df[\"year\"]\n",
    "    if years.min() < 2000 or years.max() > 2024:\n",
    "        print(f\"Year out of range: min={years.min()}, max={years.max()}\")\n",
    "        results.append((csv_path.name, False))\n",
    "        continue\n",
    "    else:\n",
    "        print(\"Year range OK\")\n",
    "\n",
    "    # 3. Check for duplicates\n",
    "    dups = df.duplicated(subset=[\"country_code\", \"indicator_code\", \"year\"]).sum()\n",
    "    if dups > 0:\n",
    "        print(f\"Found {dups} duplicate rows on (country_code, indicator_code, year)\")\n",
    "        results.append((csv_path.name, False))\n",
    "        continue\n",
    "    else:\n",
    "        print(\"No duplicates on (country_code, indicator_code, year)\")\n",
    "\n",
    "    print(f\"{csv_path.name} PASSED all checks\")\n",
    "    results.append((csv_path.name, True))\n",
    "\n",
    "# Summary\n",
    "print(\"\\n=== SUMMARY ===\")\n",
    "for fname, passed in results:\n",
    "    print(f\"{fname}: {'PASSED' if passed else 'FAILED'}\")\n",
    "\n",
    "# Document what was checked\n",
    "print(\"\"\"\n",
    "This notebook checks each CSV in data/raw/ for:\n",
    "- Correct columns\n",
    "- Years between 2000–2024\n",
    "- No duplicate (country_code, indicator_code, year)\n",
    "If all checks pass, the file is marked as PASSED.\n",
    "\"\"\")"
   ]
  }
 ],
 "metadata": {
  "kernelspec": {
   "display_name": "Python 3",
   "language": "python",
   "name": "python3"
  },
  "language_info": {
   "codemirror_mode": {
    "name": "ipython",
    "version": 3
   },
   "file_extension": ".py",
   "mimetype": "text/x-python",
   "name": "python",
   "nbconvert_exporter": "python",
   "pygments_lexer": "ipython3",
   "version": "3.13.7"
  }
 },
 "nbformat": 4,
 "nbformat_minor": 5
}
